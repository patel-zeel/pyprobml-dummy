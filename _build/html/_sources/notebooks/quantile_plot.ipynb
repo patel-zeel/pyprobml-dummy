{
 "cells": [
  {
   "cell_type": "markdown",
   "id": "20088711",
   "metadata": {},
   "source": [
    "# CDF and Quantile PDF Plot of Standard Normal Distribution"
   ]
  },
  {
   "cell_type": "code",
   "execution_count": 1,
   "id": "6d03c2fe",
   "metadata": {},
   "outputs": [],
   "source": [
    "import os\n",
    "\n",
    "try:\n",
    "    import jax\n",
    "except:\n",
    "    %pip install jax jaxlib\n",
    "    import jax\n",
    "\n",
    "import jax.numpy as jnp\n",
    "from jax.scipy.stats import norm\n",
    "\n",
    "try:\n",
    "    import matplotlib.pyplot as plt\n",
    "except:\n",
    "    %pip install matplotlib\n",
    "    import matplotlib.pyplot as plt\n",
    "\n",
    "try:\n",
    "    import seaborn as sns\n",
    "except:\n",
    "    %pip install seaborn\n",
    "    import seaborn as sns"
   ]
  },
  {
   "cell_type": "code",
   "execution_count": 2,
   "id": "0d9280ad",
   "metadata": {},
   "outputs": [],
   "source": [
    "dev_mode = \"DEV_MODE\" in os.environ\n",
    "\n",
    "if dev_mode:\n",
    "    import sys\n",
    "\n",
    "    sys.path.append(\"scripts\")\n",
    "    import pyprobml_utils as pml\n",
    "    from latexify import latexify\n",
    "\n",
    "    latexify(width_scale_factor=2, fig_height=1.5)"
   ]
  },
  {
   "cell_type": "code",
   "execution_count": 3,
   "id": "e7bbfc24",
   "metadata": {},
   "outputs": [
    {
     "name": "stderr",
     "output_type": "stream",
     "text": [
      "WARNING:absl:No GPU/TPU found, falling back to CPU. (Set TF_CPP_MIN_LOG_LEVEL=0 and rerun for more info.)\n"
     ]
    },
    {
     "data": {
      "image/png": "[encoded data removed]",
      "text/plain": [
       "<Figure size 432x288 with 1 Axes>"
      ]
     },
     "metadata": {
      "needs_background": "light"
     },
     "output_type": "display_data"
    }
   ],
   "source": [
    "x = jnp.linspace(-3, 3, 100)\n",
    "\n",
    "plt.plot(x, norm.pdf(x))\n",
    "x_sep_left = norm.ppf(0.025)\n",
    "x_sep_right = norm.ppf(0.975)\n",
    "x_fill_left = jnp.linspace(-3, x_sep_left, 100)\n",
    "x_fill_right = jnp.linspace(x_sep_right, 3, 100)\n",
    "plt.fill_between(x_fill_left, norm.pdf(x_fill_left), color=\"b\")\n",
    "plt.fill_between(x_fill_right, norm.pdf(x_fill_right), color=\"b\")\n",
    "plt.annotate(\n",
    "    r\"$\\alpha/2$\",\n",
    "    xy=(x_sep_left-0.2, norm.pdf(x_sep_left)),\n",
    "    xytext=(-2.5, 0.2),\n",
    "    arrowprops=dict(facecolor=\"k\", arrowstyle = '-'),\n",
    ")\n",
    "\n",
    "plt.annotate(\n",
    "    r\"$1-\\alpha/2$\",\n",
    "    xy=(x_sep_right+0.2, norm.pdf(x_sep_right)),\n",
    "    xytext=(2.5, 0.2),\n",
    "    arrowprops=dict(facecolor=\"k\", arrowstyle = '-'),\n",
    ")\n",
    "\n",
    "plt.xlabel('$x$')\n",
    "plt.ylabel('$p(x)$')\n",
    "plt.ylim([0, 0.5])\n",
    "sns.despine()\n",
    "if dev_mode:\n",
    "    pml.savefig(\"gaussianQuantile_latexified.pdf\")\n",
    "\n",
    "# plt.show()"
   ]
  }
 ],
 "metadata": {
  "kernelspec": {
   "display_name": "Python 3 (ipykernel)",
   "language": "python",
   "name": "python3"
  },
  "language_info": {
   "codemirror_mode": {
    "name": "ipython",
    "version": 3
   },
   "file_extension": ".py",
   "mimetype": "text/x-python",
   "name": "python",
   "nbconvert_exporter": "python",
   "pygments_lexer": "ipython3",
   "version": "3.8.10"
  }
 },
 "nbformat": 4,
 "nbformat_minor": 5
}
