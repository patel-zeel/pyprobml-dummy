{
 "cells": [
  {
   "cell_type": "code",
   "execution_count": 29,
   "id": "0e26f84e",
   "metadata": {},
   "outputs": [],
   "source": [
    "# Anscombe's quartet \n",
    "# Author: Drishtii\n",
    "try:\n",
    "    import seaborn as sns\n",
    "except:\n",
    "    %pip install seaborn\n",
    "    import seaborn as sns\n",
    "    \n",
    "try:\n",
    "    import matplotlib.pyplot as plt\n",
    "except:\n",
    "    %pip install matplotlib\n",
    "    import matplotlib.pyplot as plt\n",
    "\n",
    "try:\n",
    "    from sklearn.linear_model import LinearRegression\n",
    "except:\n",
    "    %pip install scikit-learn\n",
    "    from sklearn.linear_model import LinearRegression\n",
    "try:\n",
    "    import jax\n",
    "except:\n",
    "    %pip install jax jaxlib\n",
    "    import jax\n",
    "import jax.numpy as jnp\n"
   ]
  },
  {
   "cell_type": "code",
   "execution_count": 95,
   "id": "e6aa30bc",
   "metadata": {},
   "outputs": [],
   "source": [
    "import os\n",
    "dev_mode =  1 or \"DEV_MODE\" in os.environ\n",
    "\n",
    "if dev_mode:\n",
    "    import sys\n",
    "    sys.path.append(\"../scripts\")\n",
    "    import pyprobml_utils as pml\n",
    "    from latexify import latexify\n",
    "    latexify(scale_factor=1, fig_height=1.5)"
   ]
  },
  {
   "cell_type": "code",
   "execution_count": 96,
   "id": "dd81775b",
   "metadata": {},
   "outputs": [],
   "source": [
    "SCATTER_SIZE = 8 if dev_mode else 20\n",
    "FIG_SIZE = None if dev_mode else (12,3)\n",
    "df = sns.load_dataset(\"anscombe\")"
   ]
  },
  {
   "cell_type": "code",
   "execution_count": 97,
   "id": "d36699ad",
   "metadata": {},
   "outputs": [],
   "source": [
    "def make_graph(ax,data,color=None):\n",
    "    x = data[\"x\"]\n",
    "    y = data[\"y\"]\n",
    "    dataset_no = data[\"dataset_no\"]\n",
    "    \n",
    "    \n",
    "    model = LinearRegression().fit(x,y)\n",
    "    x_range = jnp.linspace(1,20,num=20).reshape(-1,1)\n",
    "    y_pred = model.predict(x_range)\n",
    "    \n",
    "    ax.plot(x_range,y_pred,color=color)\n",
    "    ax.scatter(x,y,s=SCATTER_SIZE,color=color)\n",
    "    \n",
    "    ax.set_xlim(0, 20)\n",
    "    ax.set_ylim(0, 14)\n",
    "    ax.set_title(f\"Dataset = {dataset_no}\")\n",
    "    \n",
    "    ax.set_xlabel(\"x\")\n",
    "    ax.set_xlabel(\"y\")\n",
    "    "
   ]
  },
  {
   "cell_type": "code",
   "execution_count": 98,
   "id": "a3dcf8ab",
   "metadata": {},
   "outputs": [
    {
     "name": "stdout",
     "output_type": "stream",
     "text": [
      "saving image to /home/patel_zeel/AQ-NewsArticles/ProbML/pyprobml-fork/scripts/../figures/anscombes_quartet_latexified.pdf\n"
     ]
    },
    {
     "data": {
      "image/png": "[encoded data removed]",
      "text/plain": [
       "<Figure size 432x108 with 4 Axes>"
      ]
     },
     "metadata": {},
     "output_type": "display_data"
    }
   ],
   "source": [
    "names = df['dataset'].unique()\n",
    "fig, axes = plt.subplots(1,4, sharey=True,figsize=FIG_SIZE)  \n",
    "\n",
    "colors = ['blue','orange','green','red']\n",
    "for i in range(4):\n",
    "    data_df = df[df[\"dataset\"] == names[i]]\n",
    "    data_df = data_df.sort_values(by=\"x\")\n",
    "    x = data_df[\"x\"].values.reshape(-1,1)\n",
    "    y = data_df[\"y\"].values.reshape(-1,1)\n",
    "\n",
    "    data = {\n",
    "    \"x\":x,\n",
    "    \"y\":y,\n",
    "    \"dataset_no\":names[i]\n",
    "    }\n",
    "    ax = axes[i]\n",
    "    make_graph(ax,data, color=colors[i])\n",
    "sns.despine()\n",
    "pml.savefig(f\"anscombes_quartet_latexified.pdf\")"
   ]
  },
  {
   "cell_type": "code",
   "execution_count": 92,
   "id": "06c07637",
   "metadata": {},
   "outputs": [
    {
     "name": "stdout",
     "output_type": "stream",
     "text": [
      "I\n",
      "          x          y\n",
      "count  11.0  11.000000\n",
      "mean    9.0   7.500909\n",
      "var    11.0   4.127269\n",
      "saving image to /home/patel_zeel/AQ-NewsArticles/ProbML/pyprobml-fork/scripts/../figures/anscombes_quartet_I_latexified.pdf\n",
      "II\n",
      "          x          y\n",
      "count  11.0  11.000000\n",
      "mean    9.0   7.500909\n",
      "var    11.0   4.127629\n",
      "saving image to /home/patel_zeel/AQ-NewsArticles/ProbML/pyprobml-fork/scripts/../figures/anscombes_quartet_II_latexified.pdf\n",
      "III\n",
      "          x         y\n",
      "count  11.0  11.00000\n",
      "mean    9.0   7.50000\n",
      "var    11.0   4.12262\n",
      "saving image to /home/patel_zeel/AQ-NewsArticles/ProbML/pyprobml-fork/scripts/../figures/anscombes_quartet_III_latexified.pdf\n",
      "IV\n",
      "          x          y\n",
      "count  11.0  11.000000\n",
      "mean    9.0   7.500909\n",
      "var    11.0   4.123249\n",
      "saving image to /home/patel_zeel/AQ-NewsArticles/ProbML/pyprobml-fork/scripts/../figures/anscombes_quartet_IV_latexified.pdf\n"
     ]
    },
    {
     "data": {
      "image/png": "[encoded data removed]",
      "text/plain": [
       "<Figure size 108x108 with 1 Axes>"
      ]
     },
     "metadata": {},
     "output_type": "display_data"
    },
    {
     "data": {
      "image/png": "[encoded data removed]",
      "text/plain": [
       "<Figure size 108x108 with 1 Axes>"
      ]
     },
     "metadata": {},
     "output_type": "display_data"
    },
    {
     "data": {
      "image/png": "[encoded data removed]",
      "text/plain": [
       "<Figure size 108x108 with 1 Axes>"
      ]
     },
     "metadata": {},
     "output_type": "display_data"
    },
    {
     "data": {
      "image/png": "[encoded data removed]",
      "text/plain": [
       "<Figure size 108x108 with 1 Axes>"
      ]
     },
     "metadata": {},
     "output_type": "display_data"
    }
   ],
   "source": [
    "latexify(scale_factor=4, fig_height=1.5)\n",
    "for i,name in enumerate(names):\n",
    "    plt.figure()\n",
    "    print(name)\n",
    "    name_index = df['dataset']==name\n",
    "    data_df = df[name_index]\n",
    "    data_df = data_df.sort_values(by=\"x\")\n",
    "    x = data_df[\"x\"].values.reshape(-1,1)\n",
    "    y = data_df[\"y\"].values.reshape(-1,1)\n",
    "\n",
    "    data = {\n",
    "    \"x\":x,\n",
    "    \"y\":y,\n",
    "    \"dataset_no\":names[i]\n",
    "    }\n",
    "    ax = plt.gca()\n",
    "    make_graph(ax,data,colors[i])\n",
    "    \n",
    "    mean_x = data_df['x'].to_numpy().mean();\n",
    "    mean_y = data_df['y'].to_numpy().mean()\n",
    "    ax.set_title(f'{name}, mean_x={mean_x:0.3f}, mean_y={mean_y:0.3f}')\n",
    "    print(data_df[['x', 'y']].agg(['count', 'mean', 'var']))\n",
    "    if dev_mode:\n",
    "        pml.savefig(f\"anscombes_quartet_{name}_latexified.pdf\")\n",
    "        \n",
    "    sns.despine();"
   ]
  },
  {
   "cell_type": "code",
   "execution_count": 78,
   "id": "1149441b",
   "metadata": {},
   "outputs": [
    {
     "name": "stdout",
     "output_type": "stream",
     "text": [
      "dataset  I\n",
      "var x, MLE = 10.00\n",
      "var x, numpy: 10.00\n",
      "var x, unbiased estimator: 11.00\n",
      "\n",
      "var y, MLE = 3.75\n",
      "var y, numpy: 3.75\n",
      "var y, unbiased estimator: 4.13\n",
      "\n",
      "dataset  II\n",
      "var x, MLE = 10.00\n",
      "var x, numpy: 10.00\n",
      "var x, unbiased estimator: 11.00\n",
      "\n",
      "var y, MLE = 3.75\n",
      "var y, numpy: 3.75\n",
      "var y, unbiased estimator: 4.13\n",
      "\n",
      "dataset  III\n",
      "var x, MLE = 10.00\n",
      "var x, numpy: 10.00\n",
      "var x, unbiased estimator: 11.00\n",
      "\n",
      "var y, MLE = 3.75\n",
      "var y, numpy: 3.75\n",
      "var y, unbiased estimator: 4.12\n",
      "\n",
      "dataset  IV\n",
      "var x, MLE = 10.00\n",
      "var x, numpy: 10.00\n",
      "var x, unbiased estimator: 11.00\n",
      "\n",
      "var y, MLE = 3.75\n",
      "var y, numpy: 3.75\n",
      "var y, unbiased estimator: 4.12\n",
      "\n"
     ]
    }
   ],
   "source": [
    "# Compare the two different estimators for the variance\n",
    "# https://github.com/probml/pml-book/issues/264\n",
    "for d in ['I', 'II', 'III', 'IV']:\n",
    "    print('dataset ', d)\n",
    "\n",
    "    x = df[df['dataset'] == d]['x'].to_numpy()\n",
    "    print('var x, MLE = {:.2f}'.format(((x - x.mean()) ** 2).mean()))\n",
    "    print('var x, numpy: {:.2f}'.format(x.var()))\n",
    "    print('var x, unbiased estimator: {:.2f}\\n'.format(x.var(ddof=1)))\n",
    "\n",
    "    y = df[df['dataset'] == d]['y'].to_numpy()\n",
    "    print('var y, MLE = {:.2f}'.format(((y - y.mean())**2).mean()))\n",
    "    print('var y, numpy: {:.2f}'.format(y.var()))\n",
    "    print('var y, unbiased estimator: {:.2f}\\n'.format(y.var(ddof=1)))"
   ]
  },
  {
   "cell_type": "code",
   "execution_count": null,
   "id": "733f14e6",
   "metadata": {},
   "outputs": [],
   "source": []
  }
 ],
 "metadata": {
  "kernelspec": {
   "display_name": "Python [conda env:root] *",
   "language": "python",
   "name": "conda-root-py"
  },
  "language_info": {
   "codemirror_mode": {
    "name": "ipython",
    "version": 3
   },
   "file_extension": ".py",
   "mimetype": "text/x-python",
   "name": "python",
   "nbconvert_exporter": "python",
   "pygments_lexer": "ipython3",
   "version": "3.9.7"
  }
 },
 "nbformat": 4,
 "nbformat_minor": 5
}
