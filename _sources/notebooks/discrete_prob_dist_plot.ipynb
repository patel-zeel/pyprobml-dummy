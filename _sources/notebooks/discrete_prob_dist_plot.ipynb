{
 "cells": [
  {
   "cell_type": "markdown",
   "metadata": {},
   "source": [
    "# Discrete Probability Distribution Plot"
   ]
  },
  {
   "cell_type": "code",
   "execution_count": 1,
   "metadata": {},
   "outputs": [],
   "source": [
    "import os\n",
    "try:\n",
    "    import jax\n",
    "except:\n",
    "    %pip install jax\n",
    "    import jax\n",
    "import jax.numpy as jnp\n",
    "\n",
    "try:\n",
    "    import matplotlib.pyplot as plt\n",
    "except:\n",
    "    %pip install matplotlib\n",
    "    import matplotlib.pyplot as plt"
   ]
  },
  {
   "cell_type": "code",
   "execution_count": 2,
   "metadata": {},
   "outputs": [],
   "source": [
    "# Set this to False manually if running this notebook locally in stand-alone mode (without cloning the repo). \n",
    "# When nb_shell = False, figures will not be saved to disk.\n",
    "\n",
    "dev_mode = \"DEV_MODE\" in os.environ\n",
    "\n",
    "if dev_mode:\n",
    "    import sys\n",
    "\n",
    "    sys.path.append(\"../scripts\")\n",
    "    import pyprobml_utils as pml\n",
    "    from latexify import latexify, format_axes\n",
    "\n",
    "    latexify(n_figures=2, fig_height=1.5)"
   ]
  },
  {
   "cell_type": "code",
   "execution_count": 3,
   "metadata": {},
   "outputs": [
    {
     "name": "stderr",
     "output_type": "stream",
     "text": [
      "WARNING:absl:No GPU/TPU found, falling back to CPU. (Set TF_CPP_MIN_LOG_LEVEL=0 and rerun for more info.)\n"
     ]
    },
    {
     "data": {
      "image/png": "[encoded data removed]",
      "text/plain": [
       "<Figure size 432x288 with 1 Axes>"
      ]
     },
     "metadata": {
      "needs_background": "light"
     },
     "output_type": "display_data"
    },
    {
     "data": {
      "image/png": "[encoded data removed]",
      "text/plain": [
       "<Figure size 432x288 with 1 Axes>"
      ]
     },
     "metadata": {
      "needs_background": "light"
     },
     "output_type": "display_data"
    }
   ],
   "source": [
    "# Bar graphs showing a uniform discrete distribution and another with full prob on one value.\n",
    "\n",
    "x = jnp.arange(1, 5)\n",
    "uniform_probs = jnp.repeat(1.0 / len(x), len(x))\n",
    "\n",
    "\n",
    "def make_graph(probs, save_name):\n",
    "    plt.figure()\n",
    "    plt.bar(x, probs, align=\"center\")\n",
    "    plt.xlim([min(x) - 0.5, max(x) + 0.5])\n",
    "    plt.xticks(x)\n",
    "    plt.yticks(jnp.linspace(0, 1, 5))\n",
    "    if dev_mode and len(save_name) > 0:\n",
    "        format_axes(plt.gca())\n",
    "        pml.savefig(save_name)\n",
    "\n",
    "\n",
    "make_graph(uniform_probs, \"uniform_histogram_latexified.pdf\")\n",
    "make_graph([1, 0, 0, 0], \"delta_histogram_latexified.pdf\");"
   ]
  },
  {
   "cell_type": "markdown",
   "metadata": {},
   "source": [
    "## Demo"
   ]
  },
  {
   "cell_type": "code",
   "execution_count": 4,
   "metadata": {},
   "outputs": [
    {
     "data": {
      "application/vnd.jupyter.widget-view+json": {
       "model_id": "c91b7608d7d443a0be8d8d1a3fbb03a5",
       "version_major": 2,
       "version_minor": 0
      },
      "text/plain": [
       "interactive(children=(IntSlider(value=5, description='seed', max=10), Output()), _dom_classes=('widget-interac…"
      ]
     },
     "metadata": {},
     "output_type": "display_data"
    }
   ],
   "source": [
    "from ipywidgets import interact\n",
    "\n",
    "\n",
    "@interact(seed=(0, 10))\n",
    "def generate_random(seed):\n",
    "    key = jax.random.PRNGKey(seed)\n",
    "    probs = jax.random.uniform(key, shape=(4,))\n",
    "    probs = probs / jnp.sum(probs)\n",
    "    make_graph(probs, save_name=\"\")"
   ]
  }
 ],
 "metadata": {
  "interpreter": {
   "hash": "31f2aee4e71d21fbe5cf8b01ff0e069b9275f58929596ceb00d14d90e3e16cd6"
  },
  "kernelspec": {
   "display_name": "Python 3 (ipykernel)",
   "language": "python",
   "name": "python3"
  },
  "language_info": {
   "codemirror_mode": {
    "name": "ipython",
    "version": 3
   },
   "file_extension": ".py",
   "mimetype": "text/x-python",
   "name": "python",
   "nbconvert_exporter": "python",
   "pygments_lexer": "ipython3",
   "version": "3.8.10"
  }
 },
 "nbformat": 4,
 "nbformat_minor": 2
}
