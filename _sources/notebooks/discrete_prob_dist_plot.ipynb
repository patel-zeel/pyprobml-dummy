{
 "cells": [
  {
   "cell_type": "markdown",
   "metadata": {},
   "source": [
    "# Discrete Probability Distribution Plot"
   ]
  },
  {
   "cell_type": "code",
   "execution_count": 3,
   "metadata": {},
   "outputs": [],
   "source": [
    "try:\n",
    "    %reload_ext blackcellmagic\n",
    "except:\n",
    "    %pip install blackcellmagic\n",
    "    %reload_ext blackcellmagic"
   ]
  },
  {
   "cell_type": "code",
   "execution_count": 4,
   "metadata": {},
   "outputs": [],
   "source": [
    "# import superimport # Deprecated\n",
    "import jax.numpy as jnp\n",
    "import matplotlib.pyplot as plt\n",
    "\n",
    "colab_shell = 'google.colab' in str(get_ipython())\n",
    "\n",
    "if not colab_shell:\n",
    "    import sys\n",
    "    sys.path.append(\"../scripts\")\n",
    "    import pyprobml_utils as pml\n",
    "    from latexify import latexify, format_axes\n",
    "\n",
    "    latexify(n_figures=2)"
   ]
  },
  {
   "cell_type": "code",
   "execution_count": 12,
   "metadata": {},
   "outputs": [
    {
     "name": "stdout",
     "output_type": "stream",
     "text": [
      "saving image to /home/patel_zeel/pyprobml/scripts/../figures/uniform_histogram.pdf\n",
      "saving image to /home/patel_zeel/pyprobml/scripts/../figures/delta_histogram.pdf\n"
     ]
    },
    {
     "data": {
      "image/png": "[encoded data removed]",
      "text/plain": [
       "<Figure size 380.88x235.397 with 1 Axes>"
      ]
     },
     "metadata": {
      "needs_background": "light"
     },
     "output_type": "display_data"
    },
    {
     "data": {
      "image/png": "[encoded data removed]",
      "text/plain": [
       "<Figure size 380.88x235.397 with 1 Axes>"
      ]
     },
     "metadata": {
      "needs_background": "light"
     },
     "output_type": "display_data"
    }
   ],
   "source": [
    "# Bar graphs showing a uniform discrete distribution and another with full prob on one value.\n",
    "\n",
    "x = np.arange(1, 5)\n",
    "uniform_probs = np.repeat(1.0 / len(x), len(x))\n",
    "\n",
    "\n",
    "def MakeG(Probs, SaveN):\n",
    "    fig, ax = plt.subplots()\n",
    "    ax.bar(X, Probs, align=\"center\")\n",
    "    plt.xlim([min(X) - 0.5, max(X) + 0.5])\n",
    "    plt.xticks(X)\n",
    "    plt.yticks(np.linspace(0, 1, 5))\n",
    "    pml.savefig(SaveN)\n",
    "\n",
    "\n",
    "# MakeG(UniProbs, \"unifHist.pdf\")\n",
    "# MakeG([1, 0, 0, 0], \"deltaHist.pdf\")\n",
    "\n",
    "MakeG(UniProbs, \"uniform_histogram.pdf\")\n",
    "MakeG([1, 0, 0, 0], \"delta_histogram.pdf\")\n",
    "\n",
    "plt.show()\n"
   ]
  }
 ],
 "metadata": {
  "interpreter": {
   "hash": "31f2aee4e71d21fbe5cf8b01ff0e069b9275f58929596ceb00d14d90e3e16cd6"
  },
  "kernelspec": {
   "display_name": "Python 3.8.10 64-bit",
   "language": "python",
   "name": "python3"
  },
  "language_info": {
   "codemirror_mode": {
    "name": "ipython",
    "version": 3
   },
   "file_extension": ".py",
   "mimetype": "text/x-python",
   "name": "python",
   "nbconvert_exporter": "python",
   "pygments_lexer": "ipython3",
   "version": "3.8.10"
  },
  "orig_nbformat": 4
 },
 "nbformat": 4,
 "nbformat_minor": 2
}
